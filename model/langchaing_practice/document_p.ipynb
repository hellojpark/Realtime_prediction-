{
 "cells": [
  {
   "cell_type": "code",
   "execution_count": null,
   "id": "56a31459",
   "metadata": {},
   "outputs": [],
   "source": [
    "from langchain_core.documents import Document\n",
    "\n",
    "document = Document(\"안녕하세요? 이건 랭체인의 도큐먼트 입니다.\")\n",
    "\n",
    "# 도큐먼트 속성 확인\n",
    "document.__dict__\n",
    "\n",
    "# metadata 추가\n",
    "document.metadata[\"source\"] = \"TeddyNote\"\n",
    "document.metadata[\"page\"] = 1\n",
    "document.metadata[\"author\"] = \"Teddy\""
   ]
  },
  {
   "cell_type": "code",
   "execution_count": 11,
   "id": "397afce9",
   "metadata": {},
   "outputs": [
    {
     "name": "stdout",
     "output_type": "stream",
     "text": [
      "17\n",
      "{'source': './test_data.csv', 'row': 0}\n"
     ]
    }
   ],
   "source": [
    "from langchain_community.document_loaders import PyPDFLoader, CSVLoader\n",
    "\n",
    "FILE_PATH = \"./test_data.csv\"\n",
    "\n",
    "# Document Loader \n",
    "# 불러온 내용을 \"문서 객체\"로 변환하는 역할\n",
    "\n",
    "# 로더 설정\n",
    "loader = CSVLoader(FILE_PATH)\n",
    "docs = loader.load()\n",
    "\n",
    "# 로드된 문서의 수 확인\n",
    "print(len(docs))\n",
    "print(docs[0].metadata)\n"
   ]
  },
  {
   "cell_type": "code",
   "execution_count": 25,
   "id": "10547e1f",
   "metadata": {},
   "outputs": [
    {
     "name": "stdout",
     "output_type": "stream",
     "text": [
      "page_content='﻿region: 금호2가동\n",
      "prc: 18457.894736842107\n",
      "rentPrc: 170.0\n",
      "spc1: 84.83333333333333\n",
      "spc2: 62.46947368421052\n",
      "prc/spc1: 217.57832695688143\n",
      "rentPrc/spc1: 2.0039292730844793\n",
      "prc/spc2: 295.47062986553436\n",
      "rentPrc/spc2: 2.721329154450174' metadata={'source': '18457.894736842107', 'row': 1}\n"
     ]
    }
   ],
   "source": [
    "from langchain_text_splitters import CharacterTextSplitter\n",
    "\n",
    "\n",
    "# CSV 파일 경로\n",
    "loader = CSVLoader(\n",
    "    file_path = \"./test_data.csv\",\n",
    "    csv_args={\n",
    "        \"delimiter\": \",\",   # 구분자\n",
    "        \"quotechar\": '\"',   # 인용 부호 문자\n",
    "        \"fieldnames\": [     # 필드 이름\n",
    "            \"region\",\n",
    "            \"prc\",\n",
    "            \"rentPrc\",\n",
    "            \"spc1\",\n",
    "            \"spc2\",\n",
    "            \"prc/spc1\",\n",
    "            \"rentPrc/spc1\",\n",
    "            \"prc/spc2\",\n",
    "            \"rentPrc/spc2\"\n",
    "        ]\n",
    "    }\n",
    ")\n",
    "\n",
    "\n",
    "# CSV로더 설정, 파일 경로 및 소스 칼럼 지정\n",
    "loader = CSVLoader(\n",
    "    file_path='./test_data.csv', source_column='prc'\n",
    ")\n",
    "\n",
    "docs = loader.load()\n",
    "\n",
    "print(docs[1])"
   ]
  },
  {
   "cell_type": "code",
   "execution_count": null,
   "id": "b3623f02",
   "metadata": {},
   "outputs": [
    {
     "name": "stdout",
     "output_type": "stream",
     "text": [
      "2426\n",
      "page_content='atclNo: 2538700418\n",
      "atclNm: 서울숲아이파크리버포레1차\n",
      "region: 성수1가제2동\n",
      "rletTpNm: 아파트\n",
      "tradTpNm: 월세\n",
      "flrInfo: 23/33\n",
      "prc: 60000\n",
      "rentPrc: 140\n",
      "spc1: 81\n",
      "spc2: 59.94\n",
      "direction: 남서향\n",
      "atclCfmYmd: 25.07.21.\n",
      "lat: 37.551266\n",
      "lng: 127.043521\n",
      "atclFetrDesc: 지상철 소음없는 조용한동 선점 기회\n",
      "bildNm: 104동\n",
      "rltrNm: 청담워니공인중개사사무소' metadata={'source': '../../estate_data/naver_region_name_estate.csv', 'row': 0}\n"
     ]
    }
   ],
   "source": [
    "from langchain_community.document_loaders.csv_loader import UnstructuredCSVLoader, CSVLoader\n",
    "\n",
    "import pandas as pd\n",
    "\n",
    "# 비구조화 CSV 로더 인스턴스 생성\n",
    "# loader = UnstructuredCSVLoader(file_path=\"./test_estate.csv\", mode=\"elements\")\n",
    "loader = CSVLoader(file_path=\"../../estate_data/naver_region_name_estate.csv\", encoding='utf-8-sig')\n",
    "\n",
    "docs = loader.load()\n",
    "\n",
    "print(len(docs))\n",
    "print(docs[0])"
   ]
  },
  {
   "cell_type": "code",
   "execution_count": 55,
   "id": "f17c9227",
   "metadata": {},
   "outputs": [
    {
     "name": "stdout",
     "output_type": "stream",
     "text": [
      "분할된 청크의 수 : 2426\n",
      "page_content='atclNo: 2538391119\n",
      "atclNm: 서울숲아이파크리버포레1차\n",
      "region: 성수1가제2동\n",
      "rletTpNm: 아파트\n",
      "tradTpNm: 월세\n",
      "flrInfo: 28/33\n",
      "prc: 60000\n",
      "rentPrc: 375\n",
      "spc1: 115\n",
      "spc2: 84.95\n",
      "direction: 남향\n",
      "atclCfmYmd: 25.07.17.\n",
      "lat: 37.551107\n",
      "lng: 127.042365\n",
      "atclFetrDesc: 84, 고층 남향, 보증금 유연한 변동 가능\n",
      "bildNm: 103동\n",
      "rltrNm: 아이파크(단지내)YES공인중개사사무소' metadata={'source': '../../estate_data/naver_region_name_estate.csv', 'row': 1}\n"
     ]
    }
   ],
   "source": [
    "# After data loading and before data embedding, i should check data chunking.\n",
    "from langchain_text_splitters import CharacterTextSplitter, RecursiveCharacterTextSplitter\n",
    "\n",
    "# text_splitter = CharacterTextSplitter(\n",
    "#     separator = '\\n',\n",
    "#     chunk_size = 500,\n",
    "#     chunk_overlap = 5,\n",
    "#     length_function = len    \n",
    "# )\n",
    "\n",
    "text_splitter = RecursiveCharacterTextSplitter(\n",
    "    chunk_size = 400,\n",
    "    chunk_overlap =15,\n",
    "    length_function = len    \n",
    ")\n",
    "\n",
    "text = text_splitter.split_documents(docs)\n",
    "print(f\"분할된 청크의 수 : {len(text)}\")\n",
    "print(text[1])\n",
    "\n",
    "# print(len(text))"
   ]
  },
  {
   "cell_type": "code",
   "execution_count": null,
   "id": "a5c3e3c8",
   "metadata": {},
   "outputs": [
    {
     "data": {
      "text/plain": [
       "[Document(id='6a4847ff-1b0b-4a03-9b40-9bd03f27595d', metadata={'source': '../../estate_data/naver_region_name_estate.csv', 'row': 769}, page_content='atclNo: 2539384948\\natclNm: 일반원룸\\nregion: 행당제2동\\nrletTpNm: 원룸\\ntradTpNm: 월세\\nflrInfo: 5/5\\nprc: 3000\\nrentPrc: 45\\nspc1: -\\nspc2: 16.52\\ndirection: 북서향\\natclCfmYmd: 25.07.21.\\nlat: 37.560466\\nlng: 127.043284\\natclFetrDesc: 월세저렴 풀옵션원룸 한양대인근 조용한주택가 보증금조절가능\\nbildNm: \\nrltrNm: 더드림부동산'),\n",
       " Document(id='91295993-f0fd-4f5d-9361-c34650067b5f', metadata={'source': '../../estate_data/naver_region_name_estate.csv', 'row': 1664}, page_content='atclNo: 2534647685\\natclNm: 도시형생활주택\\nregion: 응봉동\\nrletTpNm: 원룸\\ntradTpNm: 월세\\nflrInfo: 3/5\\nprc: 3000\\nrentPrc: 45\\nspc1: -\\nspc2: 14.08\\ndirection: 북향\\natclCfmYmd: 25.06.27.\\nlat: 37.556521\\nlng: 127.041602\\natclFetrDesc: 한양대 정문 도보 1분, 구조 좋고 깨끗, 주택가 위치\\nbildNm: \\nrltrNm: 봄날공인중개사사무소'),\n",
       " Document(id='4acc8e57-da0d-4d8f-bad5-6e71673eb732', metadata={'source': '../../estate_data/naver_region_name_estate.csv', 'row': 2144}, page_content='atclNo: 2534175414\\natclNm: 도시형생활주택\\nregion: 성수1가제1동\\nrletTpNm: 원룸\\ntradTpNm: 월세\\nflrInfo: 2/5\\nprc: 6000\\nrentPrc: 10\\nspc1: -\\nspc2: 12.54\\ndirection: 남향\\natclCfmYmd: 25.06.25.\\nlat: 37.54084\\nlng: 127.012094\\natclFetrDesc: 옥수역5분거리 풀옵션원룸 주차장있슴 가격추천매물\\nbildNm: \\nrltrNm: 하나부동산공인중개사사무소'),\n",
       " Document(id='184d3d25-2a27-4009-9f2c-ff70d0e89208', metadata={'source': '../../estate_data/naver_region_name_estate.csv', 'row': 1010}, page_content='atclNo: 2536346994\\natclNm: 일반원룸\\nregion: 응봉동\\nrletTpNm: 원룸\\ntradTpNm: 월세\\nflrInfo: 5/5\\nprc: 1000\\nrentPrc: 75\\nspc1: -\\nspc2: 19.83\\ndirection: 서향\\natclCfmYmd: 25.07.07.\\nlat: 37.561177\\nlng: 127.040241\\natclFetrDesc: 위치최고 채광굿 풀옵션 왕십리역세권 한양대학생 추천\\nbildNm: \\nrltrNm: 더드림부동산'),\n",
       " Document(id='ac801cb2-2b26-4917-b8b4-f1ca674290dd', metadata={'source': '../../estate_data/naver_region_name_estate.csv', 'row': 1039}, page_content='atclNo: 2538596015\\natclNm: 일반원룸\\nregion: 행당제1동\\nrletTpNm: 원룸\\ntradTpNm: 월세\\nflrInfo: 4/4\\nprc: 500\\nrentPrc: 65\\nspc1: -\\nspc2: 16.52\\ndirection: 동향\\natclCfmYmd: 25.07.17.\\nlat: 37.56222\\nlng: 127.042326\\natclFetrDesc: 저렴월세 풀옵션 채광굿 한양대인근 조용한주택가\\nbildNm: \\nrltrNm: 더드림부동산'),\n",
       " Document(id='ad64c5f9-750f-402a-9d94-d71decc34785', metadata={'source': '../../estate_data/naver_region_name_estate.csv', 'row': 2249}, page_content='atclNo: 2539610773\\natclNm: 한양마이라움(도시형)\\nregion: 행당제2동\\nrletTpNm: 아파트\\ntradTpNm: 월세\\nflrInfo: 4/7\\nprc: 1000\\nrentPrc: 75\\nspc1: 26\\nspc2: 18.36\\ndirection: 서향\\natclCfmYmd: 25.07.22.\\nlat: 37.563496\\nlng: 127.048136\\natclFetrDesc: 단기 6개월 가능한 도시형생활주택 이에요.\\nbildNm: 1동\\nrltrNm: 사근부동산공인중개사사무소'),\n",
       " Document(id='8bb7fa53-d1c5-49fc-93e5-26b6393fe94b', metadata={'source': '../../estate_data/naver_region_name_estate.csv', 'row': 1369}, page_content='atclNo: 2535760117\\natclNm: 상가주택\\nregion: 성수1가제2동\\nrletTpNm: 상가주택\\ntradTpNm: 월세\\nflrInfo: 3/4\\nprc: 3000\\nrentPrc: 160\\nspc1: 50\\nspc2: 50\\ndirection: 남동향\\natclCfmYmd: 25.07.03.\\nlat: 37.549077\\nlng: 127.048565\\natclFetrDesc: 뚝섬역세권 깨끗한 풀옵션 쓰리룸 월세\\nbildNm: \\nrltrNm: 타임공인중개사사무소'),\n",
       " Document(id='6a1e5e49-302c-43ce-8a0e-777b525727bf', metadata={'source': '../../estate_data/naver_region_name_estate.csv', 'row': 955}, page_content='atclNo: 2538937579\\natclNm: 상가주택\\nregion: 성수2가제1동\\nrletTpNm: 상가주택\\ntradTpNm: 월세\\nflrInfo: 2/3\\nprc: 3000\\nrentPrc: 100\\nspc1: 75\\nspc2: 67\\ndirection: 동향\\natclCfmYmd: 25.07.19.\\nlat: 37.5486\\nlng: 127.054085\\natclFetrDesc: 거실이 매우 넓은 깔끔한 2룸  성수동 다가구주택 월세 가성비 위치 좋은\\nbildNm: \\nrltrNm: 봄날공인중개사사무소'),\n",
       " Document(id='e933bd07-371d-4715-9928-54156f9b96e8', metadata={'source': '../../estate_data/naver_region_name_estate.csv', 'row': 1795}, page_content='atclNo: 2536309064\\natclNm: 일반원룸\\nregion: 응봉동\\nrletTpNm: 원룸\\ntradTpNm: 월세\\nflrInfo: 2/5\\nprc: 6000\\nrentPrc: 30\\nspc1: -\\nspc2: 18\\ndirection: 남향\\natclCfmYmd: 25.07.05.\\nlat: 37.556741\\nlng: 127.042522\\natclFetrDesc: 보증금 조정가능,한양대도보 1분, 구조 좋음, 주택가 위치, 풀옵션원\\nbildNm: \\nrltrNm: 봄날공인중개사사무소'),\n",
       " Document(id='bad9a160-cd8c-41ea-9a78-437abd57452b', metadata={'source': '../../estate_data/naver_region_name_estate.csv', 'row': 1000}, page_content='atclNo: 2536347107\\natclNm: 일반원룸\\nregion: 응봉동\\nrletTpNm: 원룸\\ntradTpNm: 월세\\nflrInfo: 4/5\\nprc: 1000\\nrentPrc: 70\\nspc1: -\\nspc2: 16.52\\ndirection: 서향\\natclCfmYmd: 25.07.07.\\nlat: 37.561177\\nlng: 127.040241\\natclFetrDesc: 위치최고 채광굿 풀옵션 왕십리역세권 한양대학생 추천\\nbildNm: \\nrltrNm: 더드림부동산')]"
      ]
     },
     "execution_count": 57,
     "metadata": {},
     "output_type": "execute_result"
    }
   ],
   "source": [
    "# load .csv file embedding practice\n",
    "\n",
    "''' **** 기본 teddynote rag_project 전체 개요에서 사용한 임베딩 과정 ****\n",
    "# 단계 3 : 임베딩(Embedding) 생성\n",
    "embeddings = OpenAIEmbeddings()\n",
    "\n",
    "# 단계 4 : DB 생성(Create DB) 및 저장\n",
    "# 벡터 스토어를 생성합니다.\n",
    "# !pip install faiss-cpu\n",
    "vectorstore = FAISS.from_documents(documents=split_documents, embedding=embeddings)\n",
    "'''\n",
    "\n",
    "from langchain_openai import OpenAIEmbeddings\n",
    "from langchain_community.vectorstores import FAISS\n",
    "\n",
    "# embeddings_model = OpenAIEmbeddings()\n",
    "\n",
    "# embeddings = embeddings_model.embed_documents()\n",
    "\n",
    "# 단계 3 : 임베딩(Embedding) 생성\n",
    "embeddings = OpenAIEmbeddings()\n",
    "\n",
    "# 단계 4 : DB 생성(Create DB) 및 저장\n",
    "# 벡터 스토어를 생성합니다.\n",
    "# !pip install faiss-cpu\n",
    "vectorstore = FAISS.from_documents(documents=text, embedding=embeddings)"
   ]
  },
  {
   "cell_type": "code",
   "execution_count": null,
   "id": "581fa8d3",
   "metadata": {},
   "outputs": [],
   "source": [
    "# 단계 5 : 검색기 (Retriever) 생성\n",
    "\n",
    "# 문서에 포함되어 있는 정보를 검색하고 생성합니다.\n",
    "retriever = vectorstore.as_retriever(search_kwargs={'k': 30})\n",
    "\n",
    "# 검색기에 쿼리를 날려 검색된 chunk 결과를 확인합니다.\n",
    "retriever.invoke(\"월세 60이하, 6평 이상, 그리고 한양대학교와의 거리를 고려해서 월세 방을 5곳 추천해줘.\" \\\n",
    "\"추천한 이유와 추천된 곳의 매물 이름, 월세, 보증금, 중개하는 부동산 이름을 같이 알려줘.\")"
   ]
  },
  {
   "cell_type": "code",
   "execution_count": 58,
   "id": "cb47a06d",
   "metadata": {},
   "outputs": [
    {
     "name": "stdout",
     "output_type": "stream",
     "text": [
      "다음은 월세 60 이하, 6평 이상, 한양대학교와 가까운 월세 방 5곳 추천입니다:\n",
      "\n",
      "1. **매물 이름**: 일반원룸\n",
      "   - **월세**: 45만 원\n",
      "   - **보증금**: 3000만 원\n",
      "   - **중개 부동산 이름**: 더드림부동산\n",
      "   - **추천 이유**: 한양대 인근에 위치하며 조용한 주택가에 있어 생활하기 좋습니다. 보증금 조절이 가능하다는 점도 장점입니다.\n",
      "\n",
      "2. **매물 이름**: 도시형생활주택\n",
      "   - **월세**: 45만 원\n",
      "   - **보증금**: 3000만 원\n",
      "   - **중개 부동산 이름**: 봄날공인중개사사무소\n",
      "   - **추천 이유**: 한양대 정문에서 도보 1분 거리로 매우 가깝고, 구조가 좋고 깨끗한 주택가에 위치해 있습니다.\n",
      "\n",
      "3. **매물 이름**: 일반원룸\n",
      "   - **월세**: 30만 원\n",
      "   - **보증금**: 6000만 원\n",
      "   - **중개 부동산 이름**: 봄날공인중개사사무소\n",
      "   - **추천 이유**: 한양대 도보 1분 거리로 매우 가깝고, 보증금 조정이 가능하며 구조가 좋습니다.\n",
      "\n",
      "4. **매물 이름**: 일반원룸\n",
      "   - **월세**: 45만 원\n",
      "   - **보증금**: 3000만 원\n",
      "   - **중개 부동산 이름**: 더드림부동산\n",
      "   - **추천 이유**: 한양대 인근에 위치하며 조용한 주택가에 있어 생활하기 좋습니다. 풀옵션으로 제공됩니다.\n",
      "\n",
      "5. **매물 이름**: 일반원룸\n",
      "   - **월세**: 45만 원\n",
      "   - **보증금**: 3000만 원\n",
      "   - **중개 부동산 이름**: 봄날공인중개사사무소\n",
      "   - **추천 이유**: 한양대 정문에서 도보 1분 거리로 매우 가깝고, 구조가 좋고 깨끗한 주택가에 위치해 있습니다.\n",
      "\n",
      "이 매물들은 모두 한양대학교와 가까운 거리에 위치해 있어 통학에 유리하며, 월세와 보증금 조건도 비교적 합리적입니다.\n"
     ]
    }
   ],
   "source": [
    "from langchain_core.output_parsers import StrOutputParser\n",
    "from langchain_core.runnables import RunnablePassthrough\n",
    "from langchain_core.prompts import PromptTemplate\n",
    "from langchain_openai import ChatOpenAI\n",
    "\n",
    "# 단계 6 : 프롬프트 생성(Create Prompt)\n",
    "\n",
    "prompt = PromptTemplate.from_template(\n",
    "    \"\"\"You are an assistant for question-answering tasks.\n",
    "    User the following peices of retrieved context to answer the question.\n",
    "    If you don't know the answer, just say that you don't know.\n",
    "    Anser in Korean.\n",
    "    retrieved context includes information of Deposit(column anme 'prc'), Monthly Rent(column name 'rentPrc'),\n",
    "    Total Floor Area(in Korean, 공급면적. column name 'spc1'), Exclusive Use Area(in Korean, 전용면적. column name 'spc2'),\n",
    "    Listing type(or Housing type. It includes 'apartment, studio aparmtent, officetel etc'. column name 'rletTpNm').\n",
    "    District(column name 'region)'.\n",
    "    All data come from Real Estat Listing Website. And I extract about Seongdong-Gu list, which is closed to Hanyang University, Korea.\n",
    "    \n",
    "    #Question:\n",
    "    {question}\n",
    "\n",
    "    #Context:\n",
    "    {context}\n",
    "\n",
    "    #Answer:\n",
    "    \"\"\"    \n",
    ")\n",
    "\n",
    "# 단계 7 : 언어모델(LLM) 생성\n",
    "\n",
    "llm = ChatOpenAI(model_name=\"gpt-4o\", temperature=0)\n",
    "\n",
    "# 단계 8 : 체인(chain) 생성\n",
    "chain = (\n",
    "    {\"context\": retriever, \"question\": RunnablePassthrough()}\n",
    "    | prompt\n",
    "    | llm    \n",
    "    | StrOutputParser()\n",
    ")\n",
    "\n",
    "# 체인 실행(Run Chain)\n",
    "# 문서에 대한 질의를 입력하고, 답변을 출력합니다.\n",
    "question = \"월세 60이하, 6평 이상, 그리고 한양대학교와의 거리를 고려해서 월세 방을 5곳 추천해줘.\" \\\n",
    "\"추천한 이유와 추천된 곳의 매물 이름, 월세, 보증금, 중개하는 부동산 이름을 같이 알려줘.\"\n",
    "response = chain.invoke(question)\n",
    "print(response)"
   ]
  }
 ],
 "metadata": {
  "kernelspec": {
   "display_name": "estate_recom",
   "language": "python",
   "name": "python3"
  },
  "language_info": {
   "codemirror_mode": {
    "name": "ipython",
    "version": 3
   },
   "file_extension": ".py",
   "mimetype": "text/x-python",
   "name": "python",
   "nbconvert_exporter": "python",
   "pygments_lexer": "ipython3",
   "version": "3.11.13"
  }
 },
 "nbformat": 4,
 "nbformat_minor": 5
}
