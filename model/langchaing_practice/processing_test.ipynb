{
 "cells": [
  {
   "cell_type": "code",
   "execution_count": 2,
   "id": "5939b265",
   "metadata": {},
   "outputs": [],
   "source": [
    "import pandas as pd\n",
    "import json\n",
    "\n",
    "df = pd.read_csv(\"../../estate_data/naver_region_name_estate.csv\")"
   ]
  },
  {
   "cell_type": "code",
   "execution_count": 5,
   "id": "5393998d",
   "metadata": {},
   "outputs": [
    {
     "name": "stdout",
     "output_type": "stream",
     "text": [
      "                      Tot_mean                                                \\\n",
      "                           prc     rentPrc       spc1       spc2    prc/spc1   \n",
      "region                                                                         \n",
      "금호1가동             15439.473684  122.236842  73.918919  57.805263  208.870394   \n",
      "금호2가동             18457.894737  170.000000  84.833333  62.469474  217.578327   \n",
      "금호3가동             18823.529412  206.843137  93.686275  70.816275  200.920887   \n",
      "금호4가동              7600.000000  110.955556  62.750000  50.119556  121.115538   \n",
      "기타지역(1120012200)   9110.215054   95.946237  55.174863  38.040484  165.115317   \n",
      "\n",
      "                                                                 prc  \\\n",
      "                 rentPrc/spc1    prc/spc2 rentPrc/spc2           다세대   \n",
      "region                                                                 \n",
      "금호1가동                1.653661  267.094601     2.114632           NaN   \n",
      "금호2가동                2.003929  295.470630     2.721329           NaN   \n",
      "금호3가동                2.207828  265.807959     2.920842           NaN   \n",
      "금호4가동                1.768216  151.637418     2.213818  11666.666667   \n",
      "기타지역(1120012200)     1.738948  239.487360     2.522214           NaN   \n",
      "\n",
      "                               ...       spc2                        \\\n",
      "                       단독/다가구  ...        다세대     단독/다가구         빌라   \n",
      "region                         ...                                    \n",
      "금호1가동              400.000000  ...        NaN  21.773333  34.100000   \n",
      "금호2가동             3500.000000  ...        NaN  36.840000  39.980000   \n",
      "금호3가동             6000.000000  ...        NaN  53.803333  34.560000   \n",
      "금호4가동             2447.368421  ...  57.826667  36.411053  38.230000   \n",
      "기타지역(1120012200)  4011.627907  ...        NaN  40.336512  42.300357   \n",
      "\n",
      "                                                                             \\\n",
      "                       상가주택        아파트     아파트분양권  연립       오피스텔         원룸   \n",
      "region                                                                        \n",
      "금호1가동                   NaN  74.873043        NaN NaN        NaN        NaN   \n",
      "금호2가동             37.290000  76.549474        NaN NaN  29.444000  29.915000   \n",
      "금호3가동             78.664444  73.796667        NaN NaN        NaN  25.500000   \n",
      "금호4가동             18.000000  75.740667        NaN NaN        NaN  27.686667   \n",
      "기타지역(1120012200)  36.000000        NaN  62.680286 NaN  23.950294  26.222000   \n",
      "\n",
      "                      \n",
      "                 재건축  \n",
      "region                \n",
      "금호1가동            NaN  \n",
      "금호2가동            NaN  \n",
      "금호3가동            NaN  \n",
      "금호4가동            NaN  \n",
      "기타지역(1120012200) NaN  \n",
      "\n",
      "[5 rows x 48 columns]\n"
     ]
    }
   ],
   "source": [
    "# 숫자로 변환 (쉼표, 문자열 등 제거)\n",
    "df['spc1'] = pd.to_numeric(df['spc1'], errors='coerce')\n",
    "df['spc2'] = pd.to_numeric(df['spc2'], errors='coerce')\n",
    "\n",
    "# region만으로 그룹화 (전체 평균)\n",
    "df_region_mean = df.groupby('region')[['prc', 'rentPrc', 'spc1', 'spc2']].mean()\n",
    "\n",
    "df_region_mean['prc/spc1'] = df_region_mean['prc'] / df_region_mean['spc1']\n",
    "df_region_mean['rentPrc/spc1'] = df_region_mean['rentPrc'] / df_region_mean['spc1']\n",
    "df_region_mean['prc/spc2'] = df_region_mean['prc'] / df_region_mean['spc2']\n",
    "df_region_mean['rentPrc/spc2'] = df_region_mean['rentPrc'] / df_region_mean['spc2']\n",
    "\n",
    "df_region_mean.columns = pd.MultiIndex.from_product([['Tot_mean'], df_region_mean.columns])\n",
    "df_grouped = df.groupby(['region', 'rletTpNm'])[['prc', 'rentPrc', 'spc1', 'spc2']].mean()\n",
    "df_pivot = df_grouped.unstack(level='rletTpNm')\n",
    "\n",
    "# 통합: 컬럼 합치기\n",
    "df_final = pd.concat([df_region_mean, df_pivot], axis=1)\n",
    "print(df_final.head())\n",
    "\n",
    "df_final.columns = ['_'.join(map(str, col)) if isinstance(col, tuple) else col for col in df_final.columns]\n",
    "\n",
    "df_final.to_csv(\"./test_data.csv\", encoding=\"utf-8-sig\")\n"
   ]
  },
  {
   "cell_type": "code",
   "execution_count": 7,
   "id": "4524b374",
   "metadata": {},
   "outputs": [],
   "source": [
    "import pandas as pd\n",
    "\n",
    "df2 = pd.read_csv('test_data.csv', encoding=\"utf-8-sig\")\n",
    "df3 = pd.read_csv('clean_test_data.csv', encoding=\"utf-8-sig\")"
   ]
  }
 ],
 "metadata": {
  "kernelspec": {
   "display_name": "estate_recom",
   "language": "python",
   "name": "python3"
  },
  "language_info": {
   "codemirror_mode": {
    "name": "ipython",
    "version": 3
   },
   "file_extension": ".py",
   "mimetype": "text/x-python",
   "name": "python",
   "nbconvert_exporter": "python",
   "pygments_lexer": "ipython3",
   "version": "3.11.13"
  }
 },
 "nbformat": 4,
 "nbformat_minor": 5
}
