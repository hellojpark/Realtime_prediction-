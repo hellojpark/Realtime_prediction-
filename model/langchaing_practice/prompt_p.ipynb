{
 "cells": [
  {
   "cell_type": "code",
   "execution_count": null,
   "id": "608c4a52",
   "metadata": {},
   "outputs": [],
   "source": [
    "from dotenv import load_dotenv\n",
    "from langchain_teddynote import logging\n",
    "\n",
    "load_dotenv()\n",
    "logging.langsmith(\"estate_project\")"
   ]
  },
  {
   "cell_type": "markdown",
   "id": "e1291591",
   "metadata": {},
   "source": [
    "1. from_template() 메소드를 사용하여 PromptTemplate 객체 생성"
   ]
  },
  {
   "cell_type": "code",
   "execution_count": null,
   "id": "88955606",
   "metadata": {},
   "outputs": [],
   "source": [
    "from langchain_openai import ChatOpenAI\n",
    "from langchain_core.prompts import PromptTemplate\n",
    "\n",
    "llm = ChatOpenAI()\n",
    "\n",
    "# template 정의. {country}는 변수, 이후에 값이 들어갈 자리를 의미\n",
    "template = \"{country}의 수도는 어디인가요?\"\n",
    "\n",
    "# from_template 메소드를 이용하여 PromptTemplate 객체 생성\n",
    "prompt = PromptTemplate.from_template(template)\n",
    "\n",
    "chain = prompt | llm\n",
    "# country 변수에 입력된 값이 자동으로 치환되어 수행되.\n",
    "chain.invoke(\"대한민국\").content\n",
    "\n",
    "# prompt 생성. format 메소드를 이용하여 변수에 값을 넣어줌\n",
    "prompt = prompt.format(country=\"대한민국\")"
   ]
  },
  {
   "cell_type": "markdown",
   "id": "aaaceba2",
   "metadata": {},
   "source": [
    "2. PromptTemplate 객체 생성과 동시에 prompt 생성"
   ]
  },
  {
   "cell_type": "code",
   "execution_count": null,
   "id": "fdfbb036",
   "metadata": {},
   "outputs": [
    {
     "data": {
      "text/plain": [
       "'대한민국과 미국의 수도는 각각 어디인가요?'"
      ]
     },
     "execution_count": 12,
     "metadata": {},
     "output_type": "execute_result"
    }
   ],
   "source": [
    "from langchain_openai import ChatOpenAI\n",
    "from langchain_core.prompts import PromptTemplate\n",
    "\n",
    "\n",
    "# template 정의\n",
    "template = \"{country1}과 {country2}의 수도는 각각 어디인가요?\"\n",
    "\n",
    "# PromptTemplate 객체를 활용하여 prompt_template 생성\n",
    "prompt = PromptTemplate(\n",
    "    template = template,\n",
    "    input_variables=[\"country1\"],\n",
    "    partial_variables={\n",
    "      \"country2\": \"미국\"    # dictionary 형태로 partial_variables를 전달  \n",
    "    } \n",
    ")\n",
    "prompt\n",
    "\n",
    "prompt.format(country1=\"대한민국\")\n",
    "\n",
    "prompt_partial = prompt.partial(country2=\"캐나다\")\n",
    "prompt_partial.format(country1=\"대한민국\")\n",
    "\n",
    "chain = prompt_partial | llm\n",
    "chain.invoke({\"country1\": \"대한민국\", \"country2\": \"호주\"}).content"
   ]
  }
 ],
 "metadata": {
  "kernelspec": {
   "display_name": "estate_recom",
   "language": "python",
   "name": "python3"
  },
  "language_info": {
   "codemirror_mode": {
    "name": "ipython",
    "version": 3
   },
   "file_extension": ".py",
   "mimetype": "text/x-python",
   "name": "python",
   "nbconvert_exporter": "python",
   "pygments_lexer": "ipython3",
   "version": "3.11.13"
  }
 },
 "nbformat": 4,
 "nbformat_minor": 5
}
