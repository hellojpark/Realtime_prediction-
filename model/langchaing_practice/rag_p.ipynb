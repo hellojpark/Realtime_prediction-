{
 "cells": [
  {
   "cell_type": "code",
   "execution_count": 37,
   "id": "eee0966b",
   "metadata": {},
   "outputs": [
    {
     "name": "stdout",
     "output_type": "stream",
     "text": [
      "LangSmith 추적을 시작합니다.\n",
      "[프로젝트명]\n",
      "estate_project\n"
     ]
    }
   ],
   "source": [
    "from dotenv import load_dotenv\n",
    "from langchain_teddynote import logging\n",
    "\n",
    "load_dotenv()\n",
    "logging.langsmith(\"estate_project\")"
   ]
  },
  {
   "cell_type": "code",
   "execution_count": 1,
   "id": "444581e2",
   "metadata": {},
   "outputs": [],
   "source": [
    "from langchain_text_splitters import RecursiveCharacterTextSplitter\n",
    "from langchain_community.document_loaders import PyMuPDFLoader\n",
    "from langchain_community.vectorstores import FAISS\n",
    "from langchain_core.output_parsers import StrOutputParser\n",
    "from langchain_core.runnables import RunnablePassthrough\n",
    "from langchain_core.prompts import PromptTemplate\n",
    "from langchain_openai import ChatOpenAI, OpenAIEmbeddings"
   ]
  },
  {
   "cell_type": "code",
   "execution_count": 2,
   "id": "657081be",
   "metadata": {},
   "outputs": [
    {
     "name": "stdout",
     "output_type": "stream",
     "text": [
      "2426\n",
      "page_content='atclNo: 2538700418\n",
      "atclNm: 서울숲아이파크리버포레1차\n",
      "region: 성수1가제2동\n",
      "rletTpNm: 아파트\n",
      "tradTpNm: 월세\n",
      "flrInfo: 23/33\n",
      "prc: 60000\n",
      "rentPrc: 140\n",
      "spc1: 81\n",
      "spc2: 59.94\n",
      "direction: 남서향\n",
      "atclCfmYmd: 25.07.21.\n",
      "lat: 37.551266\n",
      "lng: 127.043521\n",
      "atclFetrDesc: 지상철 소음없는 조용한동 선점 기회\n",
      "bildNm: 104동\n",
      "rltrNm: 청담워니공인중개사사무소' metadata={'source': './test_estate.csv', 'row': 0}\n"
     ]
    }
   ],
   "source": [
    "# 단계 1 : 문서 로드(Load Documents)\n",
    "# !pip install pymupdf\n",
    "#-----------PDF 문서 로드-----------\n",
    "'''\n",
    "loader = PyMuPDFLoader(\"SPRI_AI_Brief_2023년12월호_F.pdf\")\n",
    "docs = loader.load()\n",
    "print(f\"문서의 페이지수: {len(docs)}\")\n",
    "'''\n",
    "\n",
    "from langchain_community.document_loaders.csv_loader import CSVLoader\n",
    "import pandas as pd\n",
    "from pathlib import Path\n",
    "\n",
    "'''\n",
    "folder = Path(\"./ex_data/\")\n",
    "dfs = []\n",
    "for file in folder.glob(\"*.csv\"):\n",
    "    df = pd.read_csv(file)\n",
    "    df['source']=file.name\n",
    "    dfs.append(df)\n",
    "\n",
    "df_all = pd.concat(dfs, ignore_index=True)\n",
    "\n",
    "def row_to_text(row):\n",
    "    return f\"{row['region']} 지역의 {row['rletTpNm']}은 가격 {row['prc']}, 전세 {row['rentPrc']}, 면적 {row['spc1']} 평입니다. (출처: {row['source']})\"\n",
    "\n",
    "texts = df_all.apply(row_to_text, axis=1).tolist()\n",
    "\n",
    "print(texts)\n",
    "'''\n",
    "\n",
    "# CSV 파일 로드\n",
    "# loader = CSVLoader(file_path='../../estate_data/df_price_overall.csv', encoding='utf-8-sig')\n",
    "loader = CSVLoader(file_path='./test_estate.csv', encoding='utf-8-sig')\n",
    "docs = loader.load()\n",
    "print(len(docs))\n",
    "print(docs[0])"
   ]
  },
  {
   "cell_type": "code",
   "execution_count": 3,
   "id": "c287b5be",
   "metadata": {},
   "outputs": [
    {
     "name": "stdout",
     "output_type": "stream",
     "text": [
      "분할된 청크의 수 : 2426\n"
     ]
    }
   ],
   "source": [
    "# 단계 2 : 문서 분할(Split Documents)\n",
    "text_splitter = RecursiveCharacterTextSplitter(chunk_size=2000, chunk_overlap=50)\n",
    "split_documents = text_splitter.split_documents(docs)\n",
    "print(f\"분할된 청크의 수 : {len(split_documents)}\")"
   ]
  },
  {
   "cell_type": "code",
   "execution_count": 4,
   "id": "ac77a89b",
   "metadata": {},
   "outputs": [],
   "source": [
    "# 단계 3 : 임베딩(Embedding) 생성\n",
    "embeddings = OpenAIEmbeddings()\n",
    "\n",
    "# 단계 4 : DB 생성(Create DB) 및 저장\n",
    "# 벡터 스토어를 생성합니다.\n",
    "# !pip install faiss-cpu\n",
    "vectorstore = FAISS.from_documents(documents=split_documents, embedding=embeddings)"
   ]
  },
  {
   "cell_type": "code",
   "execution_count": 5,
   "id": "5a92cde2",
   "metadata": {},
   "outputs": [
    {
     "data": {
      "text/plain": [
       "[Document(id='b0ade20f-df4e-46b0-ac8e-7d78bac69f94', metadata={'source': './test_estate.csv', 'row': 769}, page_content='atclNo: 2539384948\\natclNm: 일반원룸\\nregion: 행당제2동\\nrletTpNm: 원룸\\ntradTpNm: 월세\\nflrInfo: 5/5\\nprc: 3000\\nrentPrc: 45\\nspc1: -\\nspc2: 16.52\\ndirection: 북서향\\natclCfmYmd: 25.07.21.\\nlat: 37.560466\\nlng: 127.043284\\natclFetrDesc: 월세저렴 풀옵션원룸 한양대인근 조용한주택가 보증금조절가능\\nbildNm: \\nrltrNm: 더드림부동산'),\n",
       " Document(id='85b1fbbb-3da6-45e6-a2a0-588c584ea55a', metadata={'source': './test_estate.csv', 'row': 1664}, page_content='atclNo: 2534647685\\natclNm: 도시형생활주택\\nregion: 응봉동\\nrletTpNm: 원룸\\ntradTpNm: 월세\\nflrInfo: 3/5\\nprc: 3000\\nrentPrc: 45\\nspc1: -\\nspc2: 14.08\\ndirection: 북향\\natclCfmYmd: 25.06.27.\\nlat: 37.556521\\nlng: 127.041602\\natclFetrDesc: 한양대 정문 도보 1분, 구조 좋고 깨끗, 주택가 위치\\nbildNm: \\nrltrNm: 봄날공인중개사사무소'),\n",
       " Document(id='8299164f-dc46-4e48-af95-35d28b0cb823', metadata={'source': './test_estate.csv', 'row': 2144}, page_content='atclNo: 2534175414\\natclNm: 도시형생활주택\\nregion: 성수1가제1동\\nrletTpNm: 원룸\\ntradTpNm: 월세\\nflrInfo: 2/5\\nprc: 6000\\nrentPrc: 10\\nspc1: -\\nspc2: 12.54\\ndirection: 남향\\natclCfmYmd: 25.06.25.\\nlat: 37.54084\\nlng: 127.012094\\natclFetrDesc: 옥수역5분거리 풀옵션원룸 주차장있슴 가격추천매물\\nbildNm: \\nrltrNm: 하나부동산공인중개사사무소'),\n",
       " Document(id='35dfb463-bd2d-4c51-8232-178ca59c1956', metadata={'source': './test_estate.csv', 'row': 1010}, page_content='atclNo: 2536346994\\natclNm: 일반원룸\\nregion: 응봉동\\nrletTpNm: 원룸\\ntradTpNm: 월세\\nflrInfo: 5/5\\nprc: 1000\\nrentPrc: 75\\nspc1: -\\nspc2: 19.83\\ndirection: 서향\\natclCfmYmd: 25.07.07.\\nlat: 37.561177\\nlng: 127.040241\\natclFetrDesc: 위치최고 채광굿 풀옵션 왕십리역세권 한양대학생 추천\\nbildNm: \\nrltrNm: 더드림부동산')]"
      ]
     },
     "execution_count": 5,
     "metadata": {},
     "output_type": "execute_result"
    }
   ],
   "source": [
    "# 단계 5 : 검색기 (Retriever) 생성\n",
    "\n",
    "# 문서에 포함되어 있는 정보를 검색하고 생성합니다.\n",
    "retriever = vectorstore.as_retriever()\n",
    "\n",
    "# 검색기에 쿼리를 날려 검색된 chunk 결과를 확인합니다.\n",
    "retriever.invoke(\"월세 60이하, 6평 이상, 그리고 한양대학교와의 거리를 고려해서 월세 방을 5곳 추천해줘.\" \\\n",
    "\"추천한 이유와 추천된 곳의 매물 이름, 월세, 보증금, 중개하는 부동산 이름을 같이 알려줘.\")"
   ]
  },
  {
   "cell_type": "code",
   "execution_count": 6,
   "id": "cca11085",
   "metadata": {},
   "outputs": [],
   "source": [
    "# 단계 6 : 프롬프트 생성(Create Prompt)\n",
    "\n",
    "prompt = PromptTemplate.from_template(\n",
    "    \"\"\"You are an assistant for question-answering tasks.\n",
    "    User the following peices of retrieved context to answer the question.\n",
    "    If you don't know the answer, just say that you don't know.\n",
    "    Anser in Korean.\n",
    "    retrieved context includes information of Deposit(column anme 'prc'), Monthly Rent(column name 'rentPrc'),\n",
    "    Total Floor Area(in Korean, 공급면적. column name 'spc1'), Exclusive Use Area(in Korean, 전용면적. column name 'spc2'),\n",
    "    Listing type(or Housing type. It includes 'apartment, studio aparmtent, officetel etc'. column name 'rletTpNm').\n",
    "    District(column name 'region)'.\n",
    "    And also include 'prc per spc1 and spc2 (column name 'prc/spc1' and 'prc/spc2)',\n",
    "    'rentPrc per spc1 and spc2 (column name 'rentPrc/spc1' and 'rentPrc/spc2')'.\n",
    "    All data come from Real Estat Listing Website. And I extract about Seongdong-Gu list, which is closed to Hanyang University, Korea.\n",
    "    And all data is related to region District and Listing type.\n",
    "    \n",
    "    #Question:\n",
    "    {question}\n",
    "\n",
    "    #Context:\n",
    "    {context}\n",
    "\n",
    "    #Answer:\n",
    "    \"\"\"    \n",
    ")"
   ]
  },
  {
   "cell_type": "code",
   "execution_count": 7,
   "id": "0df1f04d",
   "metadata": {},
   "outputs": [],
   "source": [
    "# 단계 7 : 언어모델(LLM) 생성\n",
    "\n",
    "llm = ChatOpenAI(model_name=\"gpt-4o\", temperature=0)"
   ]
  },
  {
   "cell_type": "code",
   "execution_count": 8,
   "id": "1cf941b1",
   "metadata": {},
   "outputs": [
    {
     "name": "stdout",
     "output_type": "stream",
     "text": [
      "1. **매물 이름: 일반원룸**\n",
      "   - **월세:** 45만 원\n",
      "   - **보증금:** 3000만 원\n",
      "   - **중개하는 부동산 이름:** 더드림부동산\n",
      "   - **추천 이유:** 한양대 인근에 위치하며, 조용한 주택가에 있어 생활하기 좋습니다. 보증금 조절이 가능하여 유연한 조건을 제공합니다.\n",
      "\n",
      "2. **매물 이름: 도시형생활주택**\n",
      "   - **월세:** 45만 원\n",
      "   - **보증금:** 3000만 원\n",
      "   - **중개하는 부동산 이름:** 봄날공인중개사사무소\n",
      "   - **추천 이유:** 한양대 정문에서 도보 1분 거리로 매우 가깝고, 구조가 좋고 깨끗한 주택가에 위치해 있습니다.\n",
      "\n",
      "위의 두 매물은 월세가 60만 원 이하이며, 한양대학교와의 거리가 가까워 추천드립니다. 나머지 매물은 월세 조건에 맞지 않거나 면적 조건에 부합하지 않아 제외하였습니다.\n"
     ]
    }
   ],
   "source": [
    "# 단계 8 : 체인(chain) 생성\n",
    "chain = (\n",
    "    {\"context\": retriever, \"question\": RunnablePassthrough()}\n",
    "    | prompt\n",
    "    | llm    \n",
    "    | StrOutputParser()\n",
    ")\n",
    "\n",
    "# 체인 실행(Run Chain)\n",
    "# 문서에 대한 질의를 입력하고, 답변을 출력합니다.\n",
    "question = \"월세 60이하, 6평 이상, 그리고 한양대학교와의 거리를 고려해서 월세 방을 5곳 추천해줘.\" \\\n",
    "\"추천한 이유와 추천된 곳의 매물 이름, 월세, 보증금, 중개하는 부동산 이름을 같이 알려줘.\"\n",
    "response = chain.invoke(question)\n",
    "print(response)"
   ]
  },
  {
   "cell_type": "code",
   "execution_count": null,
   "id": "333d8f7c",
   "metadata": {},
   "outputs": [],
   "source": []
  },
  {
   "cell_type": "markdown",
   "id": "532ecba2",
   "metadata": {},
   "source": [
    "** CSV 병합 후 텍스트 변환 연습 코드 **"
   ]
  },
  {
   "cell_type": "code",
   "execution_count": 36,
   "id": "6c826538",
   "metadata": {},
   "outputs": [
    {
     "name": "stdout",
     "output_type": "stream",
     "text": [
      "------text print-------\n",
      "['금호1가동 지역의 nan은 가격 15439.473684210529, 전세 122.23684210526316, 면적 73.91891891891892 평입니다. (출처: df_region_price.csv)', '금호2가동 지역의 nan은 가격 18457.894736842107, 전세 170.0, 면적 84.83333333333333 평입니다. (출처: df_region_price.csv)', '금호3가동 지역의 nan은 가격 18823.529411764703, 전세 206.843137254902, 면적 93.68627450980392 평입니다. (출처: df_region_price.csv)', '금호4가동 지역의 nan은 가격 7600.0, 전세 110.95555555555556, 면적 62.75 평입니다. (출처: df_region_price.csv)', '기타지역(1120012200) 지역의 nan은 가격 9110.21505376344, 전세 95.9462365591398, 면적 55.17486338797814 평입니다. (출처: df_region_price.csv)', '마장동 지역의 nan은 가격 2331.5789473684213, 전세 53.60526315789474, 면적 70.86111111111111 평입니다. (출처: df_region_price.csv)', '사근동 지역의 nan은 가격 6461.728395061728, 전세 72.23456790123457, 면적 45.65384615384615 평입니다. (출처: df_region_price.csv)', '성수1가제1동 지역의 nan은 가격 28906.25, 전세 276.85714285714283, 면적 110.07339449541284 평입니다. (출처: df_region_price.csv)', '성수1가제2동 지역의 nan은 가격 24392.88056206089, 전세 474.655737704918, 면적 83.57446808510639 평입니다. (출처: df_region_price.csv)', '성수2가제1동 지역의 nan은 가격 9385.661375661375, 전세 110.8941798941799, 면적 57.060109289617486 평입니다. (출처: df_region_price.csv)', '옥수동 지역의 nan은 가격 15078.947368421052, 전세 138.0701754385965, 면적 79.45283018867924 평입니다. (출처: df_region_price.csv)', '왕십리도선동 지역의 nan은 가격 29294.117647058825, 전세 260.3529411764706, 면적 123.0 평입니다. (출처: df_region_price.csv)', '왕십리제2동 지역의 nan은 가격 17329.113924050635, 전세 124.79746835443038, 면적 73.46206896551725 평입니다. (출처: df_region_price.csv)', '용답동 지역의 nan은 가격 4737.333333333333, 전세 66.64, 면적 43.03076923076923 평입니다. (출처: df_region_price.csv)', '응봉동 지역의 nan은 가격 19990.1768172888, 전세 133.84086444007858, 면적 72.46323529411765 평입니다. (출처: df_region_price.csv)', '행당제1동 지역의 nan은 가격 3647.6666666666665, 전세 3913.23, 면적 46.45564516129032 평입니다. (출처: df_region_price.csv)', '행당제2동 지역의 nan은 가격 2560.4651162790697, 전세 55.56976744186046, 면적 31.75 평입니다. (출처: df_region_price.csv)', '금호1가동 지역의 nan은 가격 nan, 전세 nan, 면적 nan 평입니다. (출처: df_region_type_count.csv)', '금호2가동 지역의 nan은 가격 nan, 전세 nan, 면적 nan 평입니다. (출처: df_region_type_count.csv)', '금호3가동 지역의 nan은 가격 nan, 전세 nan, 면적 nan 평입니다. (출처: df_region_type_count.csv)', '금호4가동 지역의 nan은 가격 nan, 전세 nan, 면적 nan 평입니다. (출처: df_region_type_count.csv)', '기타지역(1120012200) 지역의 nan은 가격 nan, 전세 nan, 면적 nan 평입니다. (출처: df_region_type_count.csv)', '마장동 지역의 nan은 가격 nan, 전세 nan, 면적 nan 평입니다. (출처: df_region_type_count.csv)', '사근동 지역의 nan은 가격 nan, 전세 nan, 면적 nan 평입니다. (출처: df_region_type_count.csv)', '성수1가제1동 지역의 nan은 가격 nan, 전세 nan, 면적 nan 평입니다. (출처: df_region_type_count.csv)', '성수1가제2동 지역의 nan은 가격 nan, 전세 nan, 면적 nan 평입니다. (출처: df_region_type_count.csv)', '성수2가제1동 지역의 nan은 가격 nan, 전세 nan, 면적 nan 평입니다. (출처: df_region_type_count.csv)', '옥수동 지역의 nan은 가격 nan, 전세 nan, 면적 nan 평입니다. (출처: df_region_type_count.csv)', '왕십리도선동 지역의 nan은 가격 nan, 전세 nan, 면적 nan 평입니다. (출처: df_region_type_count.csv)', '왕십리제2동 지역의 nan은 가격 nan, 전세 nan, 면적 nan 평입니다. (출처: df_region_type_count.csv)', '용답동 지역의 nan은 가격 nan, 전세 nan, 면적 nan 평입니다. (출처: df_region_type_count.csv)', '응봉동 지역의 nan은 가격 nan, 전세 nan, 면적 nan 평입니다. (출처: df_region_type_count.csv)', '행당제1동 지역의 nan은 가격 nan, 전세 nan, 면적 nan 평입니다. (출처: df_region_type_count.csv)', '행당제2동 지역의 nan은 가격 nan, 전세 nan, 면적 nan 평입니다. (출처: df_region_type_count.csv)', 'nan 지역의 nan은 가격 다세대, 전세 다세대, 면적 다세대 평입니다. (출처: df_region_type_price.csv)', 'nan 지역의 nan은 가격 nan, 전세 nan, 면적 nan 평입니다. (출처: df_region_type_price.csv)', 'nan 지역의 nan은 가격 nan, 전세 nan, 면적 nan 평입니다. (출처: df_region_type_price.csv)', 'nan 지역의 nan은 가격 nan, 전세 nan, 면적 nan 평입니다. (출처: df_region_type_price.csv)', 'nan 지역의 nan은 가격 nan, 전세 nan, 면적 nan 평입니다. (출처: df_region_type_price.csv)', 'nan 지역의 nan은 가격 11666.666666666666, 전세 106.66666666666667, 면적 66.33333333333333 평입니다. (출처: df_region_type_price.csv)', 'nan 지역의 nan은 가격 nan, 전세 nan, 면적 nan 평입니다. (출처: df_region_type_price.csv)', 'nan 지역의 nan은 가격 nan, 전세 nan, 면적 nan 평입니다. (출처: df_region_type_price.csv)', 'nan 지역의 nan은 가격 nan, 전세 nan, 면적 nan 평입니다. (출처: df_region_type_price.csv)', 'nan 지역의 nan은 가격 nan, 전세 nan, 면적 nan 평입니다. (출처: df_region_type_price.csv)', 'nan 지역의 nan은 가격 3000.0, 전세 130.0, 면적 35.0 평입니다. (출처: df_region_type_price.csv)', 'nan 지역의 nan은 가격 2000.0, 전세 85.0, 면적 46.0 평입니다. (출처: df_region_type_price.csv)', 'nan 지역의 nan은 가격 1000.0, 전세 40.0, 면적 87.0 평입니다. (출처: df_region_type_price.csv)', 'nan 지역의 nan은 가격 nan, 전세 nan, 면적 nan 평입니다. (출처: df_region_type_price.csv)', 'nan 지역의 nan은 가격 nan, 전세 nan, 면적 nan 평입니다. (출처: df_region_type_price.csv)', 'nan 지역의 nan은 가격 nan, 전세 nan, 면적 nan 평입니다. (출처: df_region_type_price.csv)', 'nan 지역의 nan은 가격 3000.0, 전세 70.0, 면적 89.0 평입니다. (출처: df_region_type_price.csv)', 'nan 지역의 nan은 가격 5000.0, 전세 112.5, 면적 50.5 평입니다. (출처: df_region_type_price.csv)', 'nan 지역의 nan은 가격 3000.0, 전세 57.5, 면적 33.0 평입니다. (출처: df_region_type_price.csv)', 'nan 지역의 다세대은 가격 5454.545454545455, 전세 89.54545454545455, 면적 56.63636363636363 평입니다. (출처: df_type_price.csv)', 'nan 지역의 단독/다가구은 가격 3966.360294117647, 전세 2185.5551470588234, 면적 48.419878296146045 평입니다. (출처: df_type_price.csv)', 'nan 지역의 빌라은 가격 8753.953488372093, 전세 144.43410852713177, 면적 54.0 평입니다. (출처: df_type_price.csv)', 'nan 지역의 상가주택은 가격 4629.069767441861, 전세 87.48837209302326, 면적 65.26744186046511 평입니다. (출처: df_type_price.csv)', 'nan 지역의 아파트은 가격 35110.67503924647, 전세 431.8885400313972, 면적 111.67032967032966 평입니다. (출처: df_type_price.csv)', 'nan 지역의 아파트분양권은 가격 38455.882352941175, 전세 215.2941176470588, 면적 92.54901960784314 평입니다. (출처: df_type_price.csv)', 'nan 지역의 연립은 가격 80000.0, 전세 160.0, 면적 175.0 평입니다. (출처: df_type_price.csv)', 'nan 지역의 오피스텔은 가격 4065.265306122449, 전세 106.9673469387755, 면적 49.55510204081633 평입니다. (출처: df_type_price.csv)', 'nan 지역의 원룸은 가격 2549.3761140819965, 전세 56.03921568627451, 면적 30.68058968058968 평입니다. (출처: df_type_price.csv)', 'nan 지역의 재건축은 가격 10428.57142857143, 전세 151.42857142857142, 면적 85.71428571428571 평입니다. (출처: df_type_price.csv)']\n"
     ]
    }
   ],
   "source": [
    "import pandas as pd\n",
    "from pathlib import Path\n",
    "\n",
    "folder = Path(\"./ex_data/\")\n",
    "dfs = []\n",
    "for file in folder.glob(\"*.csv\"):\n",
    "    df = pd.read_csv(file)\n",
    "    df['source'] = file.name  # 출처 기록\n",
    "    dfs.append(df)\n",
    "\n",
    "df_all = pd.concat(dfs, ignore_index=True)\n",
    "\n",
    "def row_to_text(row):\n",
    "    return f\"{row['region']} 지역의 {row['rletTpNm']}은 가격 {row['prc']}, 전세 {row['rentPrc']}, 면적 {row['spc1']} 평입니다. (출처: {row['source']})\"\n",
    "\n",
    "texts = df_all.apply(row_to_text, axis=1).tolist()\n",
    "\n",
    "print('------text print-------')\n",
    "print(texts)"
   ]
  }
 ],
 "metadata": {
  "kernelspec": {
   "display_name": "estate_recom",
   "language": "python",
   "name": "python3"
  },
  "language_info": {
   "codemirror_mode": {
    "name": "ipython",
    "version": 3
   },
   "file_extension": ".py",
   "mimetype": "text/x-python",
   "name": "python",
   "nbconvert_exporter": "python",
   "pygments_lexer": "ipython3",
   "version": "3.11.13"
  }
 },
 "nbformat": 4,
 "nbformat_minor": 5
}
