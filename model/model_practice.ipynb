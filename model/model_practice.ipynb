{
 "cells": [
  {
   "cell_type": "code",
   "execution_count": null,
   "id": "44df0225",
   "metadata": {},
   "outputs": [],
   "source": [
    "import openai\n",
    "from dotenv import load_dotenv\n",
    "\n",
    "load_dotenv()\n",
    "import os\n",
    "# print(f\"[API KEY]\\n{os.environ['OPENAI_API_KEY']}\")\n",
    "\n",
    "# os.environ[\"LANGSMITH_TRACING\"] = \"true\"\n",
    "# os.environ[\"LANGSMITH_ENDPOINT\"] = \"https://api.smith.langchain.com\"\n",
    "# os.environ[\"LANGSMITH_PROJECT\"] = \"LangChain 프로젝트명\"\n",
    "# os.environ[\"LANGSMITH_API_KEY\"] = \"LangChain API KEY 입력\""
   ]
  },
  {
   "cell_type": "code",
   "execution_count": 20,
   "id": "f74fb276",
   "metadata": {},
   "outputs": [
    {
     "name": "stdout",
     "output_type": "stream",
     "text": [
      "LangSmith 추적을 시작합니다.\n",
      "[프로젝트명]\n",
      "Estate_project\n"
     ]
    }
   ],
   "source": [
    "from langchain_teddynote import logging\n",
    "\n",
    "logging.langsmith(\"Estate_project\")\n",
    "\n",
    "# set_enable = False 로 지정하면 추적 하지 않음\n",
    "# logging.langsmith(\"Estate_project\", set_enable=False)"
   ]
  },
  {
   "cell_type": "code",
   "execution_count": null,
   "id": "e502b88d",
   "metadata": {},
   "outputs": [
    {
     "name": "stdout",
     "output_type": "stream",
     "text": [
      "[답변]: content='대한민국의 수도는 서울입니다.' additional_kwargs={'refusal': None} response_metadata={'token_usage': {'completion_tokens': 8, 'prompt_tokens': 16, 'total_tokens': 24, 'completion_tokens_details': {'accepted_prediction_tokens': 0, 'audio_tokens': 0, 'reasoning_tokens': 0, 'rejected_prediction_tokens': 0}, 'prompt_tokens_details': {'audio_tokens': 0, 'cached_tokens': 0}}, 'model_name': 'gpt-4o-2024-08-06', 'system_fingerprint': 'fp_a288987b44', 'id': 'chatcmpl-BwmSw7GrdINIZvrILDnEOmC1oJUyB', 'service_tier': 'default', 'finish_reason': 'stop', 'logprobs': None} id='run--c38d8290-6fa3-4384-b46a-54f3ff620e6b-0' usage_metadata={'input_tokens': 16, 'output_tokens': 8, 'total_tokens': 24, 'input_token_details': {'audio': 0, 'cache_read': 0}, 'output_token_details': {'audio': 0, 'reasoning': 0}}\n"
     ]
    }
   ],
   "source": [
    "from langchain_openai import ChatOpenAI\n",
    "\n",
    "# 객체 생성\n",
    "llm = ChatOpenAI(\n",
    "    temperature=0.1,        # 창의성 (0.0 ~ 2.0)\n",
    "    model_name =\"gpt-4o\",   # 모델명\n",
    "    ).bind(logprobs=True)\n",
    "\n",
    "llm_with_logprob = ChatOpenAI(\n",
    "    temperature=0.1,        # 창의성 (0.0 ~ 2.0)\n",
    "    max_tokens=2048,        # 최대 토큰 수\n",
    "    model_name =\"gpt-3.5-turbo\",   # 모델명\n",
    "    ).bind(logprobs=True)\n",
    "\n",
    "question = \"대한민국의 수도는 어디인가요?\"\n",
    "\n",
    "response = llm.invoke(question)\n",
    "response = llm_with_logprob.invoke(question)"
   ]
  },
  {
   "cell_type": "code",
   "execution_count": 22,
   "id": "7706e491",
   "metadata": {},
   "outputs": [
    {
     "name": "stdout",
     "output_type": "stream",
     "text": [
      "대한민국에는 아름다운 관광지가 많이 있습니다. 아래는 그 중 10곳과 해당 주소입니다.\n",
      "\n",
      "1. **경복궁**\n",
      "   - 주소: 서울특별시 종로구 사직로 161\n",
      "\n",
      "2. **부산 해운대 해수욕장**\n",
      "   - 주소: 부산광역시 해운대구 우동\n",
      "\n",
      "3. **제주 성산일출봉**\n",
      "   - 주소: 제주특별자치도 서귀포시 성산읍 일출로 284-12\n",
      "\n",
      "4. **경주 불국사**\n",
      "   - 주소: 경상북도 경주시 불국로 385\n",
      "\n",
      "5. **설악산 국립공원**\n",
      "   - 주소: 강원도 속초시 설악산로 833\n",
      "\n",
      "6. **남이섬**\n",
      "   - 주소: 강원도 춘천시 남산면 남이섬길 1\n",
      "\n",
      "7. **전주 한옥마을**\n",
      "   - 주소: 전라북도 전주시 완산구 기린대로 99\n",
      "\n",
      "8. **인천 차이나타운**\n",
      "   - 주소: 인천광역시 중구 차이나타운로 11-14\n",
      "\n",
      "9. **안동 하회마을**\n",
      "   - 주소: 경상북도 안동시 풍천면 전서로 186\n",
      "\n",
      "10. **서울 남산타워 (N서울타워)**\n",
      "    - 주소: 서울특별시 용산구 남산공원길 105\n",
      "\n",
      "이곳들은 한국의 역사, 문화, 자연을 경험할 수 있는 대표적인 관광지입니다. 방문 시 각 장소의 운영 시간과 입장료 등을 미리 확인하시는 것이 좋습니다."
     ]
    }
   ],
   "source": [
    "# 스트림 방식으로 질의\n",
    "# answer에 스트리밍 답변의 결과를 받습니다.\n",
    "answer = llm.stream(\"대한민국의 아름다운 관광지 10곳과 주소를 알려주세요!\")\n",
    "\n",
    "# 스트리밍 방식으로 각 토큰을 출력합니다. (실시간 출력)\n",
    "for token in answer:\n",
    "    print(token.content, end=\"\", flush=True)"
   ]
  },
  {
   "cell_type": "code",
   "execution_count": null,
   "id": "c6a0fdac",
   "metadata": {},
   "outputs": [],
   "source": [
    "from langchain_teddynote.models import Multimodal\n",
    "from langchain_teddynote.messages import stream_response\n",
    "\n",
    "llm = ChatOpenAI(\n",
    "    temperature=0.1,       # 창의성 (0.0 ~ 2.0)\n",
    "    max_tokens=2048,       # 최대 토큰 수\n",
    "    model_name=\"gpt_40\",   # 모델명    \n",
    ")\n",
    "\n",
    "# 멀티모달 객체 생성\n",
    "multimodal_llm = Multimodal(llm)\n",
    "\n",
    "# 샘플 이미지 주소 (웹사이트로 부터 바로 인식)\n",
    "IMAGE_URL = \"\"\n",
    "\n",
    "# 이미지 파일로 부터 질의\n",
    "answer = multimodal_llm.stream(IMAGE_URL)\n",
    "\n",
    "# 스트리밍 방식으로 각 토큰을 출력. (실시간 출력)\n",
    "stream_response(answer)\n",
    "\n",
    "# 로컬 PC에 저장되어 있는 이미지의 경로 입력\n",
    "IMAGE_PATH_FROM_FILE = \"\"\n",
    "\n",
    "# 이미지 파일로 부터 질의 (스트림 방식)\n",
    "answer = multimodal_llm.stream(IMAGE_PATH_FROM_FILE)\n",
    "\n",
    "# 스트리밍 방식으로 각 토큰을 출력. (실시간 출력)\n",
    "stream_response(answer)\n",
    "\n",
    "#------------------- Systen, User 프롬프트 수정 --------------------\n",
    "\n",
    "system_prompt = \"\"\"당신은 표 (재무제표)를 해석하는 금융 AI 어시스턴트입니다.\n",
    "당신의 임무는 주어진 테이블 형식의 재무제표를 바탕으로 흥미로운 사실을 정리하여 친절하게 답변하는 것입니다.\"\"\"\n",
    "\n",
    "user_prompt = \"\"\"당신에게 주어진 표는 회사의 재무제표입니다. 흥미로운 사실을 정리하여 답변하세요.\"\"\"\n",
    "\n",
    "# 멀티모달 객체 생성\n",
    "multimodal_llm_with_prompt = Multimodal(\n",
    "    llm, system_prompt=system_prompt, user_prompt=user_prompt    \n",
    ")\n",
    "\n",
    "answer = multimodal_llm_with_prompt.stream(IMAGE_PATH_FROM_FILE)\n",
    "stream_response(answer)"
   ]
  },
  {
   "cell_type": "markdown",
   "id": "4439a2a9",
   "metadata": {},
   "source": [
    "\"\"프롬프트 템플릿의 활용\"\"\n",
    "\n",
    "PromptTemplate\n",
    "- 사용자의 입력 변수를 사용해 완전한 프롬프트 문자열을 만드는 데 사용되는 템플릿.\n",
    "\n",
    "<사용법>\n",
    "\n",
    "template: 템플릿 문자열. 이 문자열 내에서 중괄호 {}는 변수를 나타낸다.\n",
    "\n",
    "input_variables: 중괄호 안에 들어갈 변수의 이름을 리스트로 정의.\n",
    "\n",
    "input_variables\n",
    "- PromptVariables에서 사용되는 변수의 이름을 정의하는 리스트."
   ]
  },
  {
   "cell_type": "code",
   "execution_count": null,
   "id": "1eb0a3e6",
   "metadata": {},
   "outputs": [],
   "source": [
    "from langchain_core.prompts import PromptTemplate\n",
    "from langchain_core.output_parsers import StrOutputParser\n",
    "\n",
    "# template 정의\n",
    "template = \"{country}의 수도는 어디인가요?\"\n",
    "\n",
    "# from_template 메소드를 이용해 PromptTemplate 객체 설정\n",
    "prompt_template = PromptTemplate.from_template(template)\n",
    "\n",
    "# prompt 생성\n",
    "prompt = prompt_template.format(country=\"대한민국\")\n",
    "\n",
    "\n",
    "#--------------------------------------------------------------\n",
    "prompt = PromptTemplate.from_template(\"{topic}에 대해 쉽게 설명해주세요.\")\n",
    "model = ChatOpenAI()\n",
    "output_parser = StrOutputParser()\n",
    "\n",
    "chain = prompt | model | output_parser\n",
    "\n",
    "chain.innoke(input)"
   ]
  },
  {
   "cell_type": "markdown",
   "id": "50f0ea72",
   "metadata": {},
   "source": [
    "** LCEL 인터페이스 **\n",
    "\n",
    "Runnable 프로토콜\n",
    ": 표준 인터페이스. 사용자 정의 체인을 정의하고 표준 방식으로 호출하는 것을 쉽게 만든다. 표준인터페이스는 다음을 포함.\n",
    "- stream: 응답의 청크를 스트리밍한다.\n",
    "- invoke: 입력에 대해 체인을 호출한다.\n",
    "- batch: 입력 목록에 대해 체인을 호출한다.\n",
    "\n",
    "비동기 메소드\n",
    "- astream: 비동기적으로 응답의 청크를 스트리밍.\n",
    "- ainvoke: 비동기적으로 입력에 대해 체인을 호출.\n",
    "- abatch: 비동기적으로 입력 목록에 대해 체인을 호출.\n",
    "- astream_log: 최종 응답뿐만 아니라 발생하는 중간 단계를 스트리밍."
   ]
  },
  {
   "cell_type": "code",
   "execution_count": 34,
   "id": "21ca5284",
   "metadata": {},
   "outputs": [
    {
     "data": {
      "text/plain": [
       "['ChatGPT는 인공지능 챗봇으로 자연어 처리 기술을 사용하여 대화 상대와 상호작용합니다. 사용자의 질문에 답변하거나 대화를 이어나가며 다양한 주제에 대해 대화합니다. ChatGPT는 더 나은 사용자 경험을 위해 지속적으로 학습하고 발전합니다.',\n",
       " 'Instagram은 사진이나 동영상을 공유하고 소셜 네트워크를 통해 다른 사람들과 소통할 수 있는 앱입니다. 시각적 콘텐츠를 중심으로 한 SNS 플랫폼으로, 다양한 필터와 편집 기능을 제공하여 사용자들이 자신만의 콘텐츠를 만들 수 있습니다. 또한 해시태그를 통해 관심사나 주제별 콘텐츠를 손쉽게 찾을 수 있습니다.',\n",
       " '멀티모달은 여러 가지 형태의 다양한 매체를 활용하여 효율적으로 정보를 전달하는 방법을 말합니다. 이는 텍스트, 이미지, 음성, 동영상 등 다양한 형태의 자료를 통해 사용자에게 정보를 전달하고 상호작용할 수 있는 기술입니다. 멀티모달을 적절히 활용하면 사용자들에게 더 풍부하고 직관적인 경험을 제공할 수 있습니다.',\n",
       " '프로그래밍은 컴퓨터에게 일련의 명령을 내리는 작업을 말한다. 이를 통해 원하는 기능을 수행하고 데이터를 처리할 수 있다. 프로그래밍은 문제 해결 능력과 논리적 사고력을 기르는데 도움을 준다.',\n",
       " '머신러닝은 컴퓨터 시스템이 데이터에서 학습하고 패턴을 발견하여 특정 작업을 수행할 수 있도록 하는 인공지능의 한 분야입니다. 주어진 데이터를 기반으로 모델을 학습시켜 예측이나 분류를 수행하며, 실생활에서는 음성인식, 이미지 인식, 추천 시스템 등에 널리 활용됩니다. 머신러닝은 지속적인 학습을 통해 성능을 개선하고 문제 해결을 돕는 기술로 발전해가고 있습니다.']"
      ]
     },
     "execution_count": 34,
     "metadata": {},
     "output_type": "execute_result"
    }
   ],
   "source": [
    "from langchain_core.output_parsers import StrOutputParser\n",
    "from langchain_core.prompts import PromptTemplate\n",
    "\n",
    "model = ChatOpenAI()\n",
    "\n",
    "prompt = PromptTemplate.from_template(\"{topic}에 대하여 3문장으로 설명해줘.\")\n",
    "chain = prompt | model | StrOutputParser()\n",
    "\n",
    "# for token in chain.stream({\"topic\": \"멀티모달\"}):\n",
    "#     print(token, end=\"\", flush=True)\n",
    "\n",
    "chain.batch(\n",
    "    [\n",
    "        {\"topic\": \"ChatGPT\"},\n",
    "        {\"topic\": \"Instagram\"},\n",
    "        {\"topic\": \"멀티모달\"},\n",
    "        {\"topic\": \"프로그래밍\"},\n",
    "        {\"topic\": \"머신러닝\"}\n",
    "    ],\n",
    "    config={\"max_concurrency\": 1}\n",
    ")"
   ]
  }
 ],
 "metadata": {
  "kernelspec": {
   "display_name": "estate_recom",
   "language": "python",
   "name": "python3"
  },
  "language_info": {
   "codemirror_mode": {
    "name": "ipython",
    "version": 3
   },
   "file_extension": ".py",
   "mimetype": "text/x-python",
   "name": "python",
   "nbconvert_exporter": "python",
   "pygments_lexer": "ipython3",
   "version": "3.11.13"
  }
 },
 "nbformat": 4,
 "nbformat_minor": 5
}
