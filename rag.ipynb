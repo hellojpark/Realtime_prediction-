{
 "cells": [
  {
   "cell_type": "code",
   "execution_count": 1,
   "id": "444581e2",
   "metadata": {},
   "outputs": [],
   "source": [
    "from langchain_text_splitters import RecursiveCharacterTextSplitter\n",
    "from langchain_community.document_loaders import PyMuPDFLoader\n",
    "from langchain_community.vectorstores import FAISS\n",
    "from langchain_core.output_parsers import StrOutputParser\n",
    "from langchain_core.runnables import RunnablePassthrough\n",
    "from langchain_core.prompts import PromptTemplate\n",
    "from langchain_openai import ChatOpenAI, OpenAIEmbeddings"
   ]
  },
  {
   "cell_type": "code",
   "execution_count": null,
   "id": "657081be",
   "metadata": {},
   "outputs": [
    {
     "name": "stdout",
     "output_type": "stream",
     "text": [
      "2426\n",
      "page_content='atclNo: 2538700418\n",
      "atclNm: 서울숲아이파크리버포레1차\n",
      "region: 성수1가제2동\n",
      "rletTpNm: 아파트\n",
      "tradTpNm: 월세\n",
      "flrInfo: 23/33\n",
      "prc: 60000\n",
      "rentPrc: 140\n",
      "spc1: 81\n",
      "spc2: 59.94\n",
      "direction: 남서향\n",
      "atclCfmYmd: 25.07.21.\n",
      "lat: 37.551266\n",
      "lng: 127.043521\n",
      "atclFetrDesc: 지상철 소음없는 조용한동 선점 기회\n",
      "bildNm: 104동\n",
      "rltrNm: 청담워니공인중개사사무소' metadata={'source': './test_estate.csv', 'row': 0}\n"
     ]
    }
   ],
   "source": [
    "# 단계 1 : 문서 로드(Load Documents)\n",
    "\n",
    "from langchain_community.document_loaders.csv_loader import CSVLoader\n",
    "import pandas as pd\n",
    "from pathlib import Path\n",
    "\n",
    "\n",
    "# CSV 파일 로드\n",
    "# loader = CSVLoader(file_path='../../estate_data/df_price_overall.csv', encoding='utf-8-sig')\n",
    "loader = CSVLoader(file_path='./test_estate.csv', encoding='utf-8-sig')\n",
    "docs = loader.load()\n",
    "print(len(docs))\n",
    "print(docs[0])"
   ]
  },
  {
   "cell_type": "code",
   "execution_count": 3,
   "id": "c287b5be",
   "metadata": {},
   "outputs": [
    {
     "name": "stdout",
     "output_type": "stream",
     "text": [
      "분할된 청크의 수 : 2426\n"
     ]
    }
   ],
   "source": [
    "# 단계 2 : 문서 분할(Split Documents)\n",
    "text_splitter = RecursiveCharacterTextSplitter(chunk_size=2000, chunk_overlap=50)\n",
    "split_documents = text_splitter.split_documents(docs)\n",
    "print(f\"분할된 청크의 수 : {len(split_documents)}\")"
   ]
  },
  {
   "cell_type": "code",
   "execution_count": 4,
   "id": "ac77a89b",
   "metadata": {},
   "outputs": [],
   "source": [
    "# 단계 3 : 임베딩(Embedding) 생성\n",
    "embeddings = OpenAIEmbeddings()\n",
    "\n",
    "# 단계 4 : DB 생성(Create DB) 및 저장\n",
    "# 벡터 스토어를 생성합니다.\n",
    "# !pip install faiss-cpu\n",
    "vectorstore = FAISS.from_documents(documents=split_documents, embedding=embeddings)"
   ]
  },
  {
   "cell_type": "code",
   "execution_count": 5,
   "id": "5a92cde2",
   "metadata": {},
   "outputs": [
    {
     "data": {
      "text/plain": [
       "[Document(id='b0ade20f-df4e-46b0-ac8e-7d78bac69f94', metadata={'source': './test_estate.csv', 'row': 769}, page_content='atclNo: 2539384948\\natclNm: 일반원룸\\nregion: 행당제2동\\nrletTpNm: 원룸\\ntradTpNm: 월세\\nflrInfo: 5/5\\nprc: 3000\\nrentPrc: 45\\nspc1: -\\nspc2: 16.52\\ndirection: 북서향\\natclCfmYmd: 25.07.21.\\nlat: 37.560466\\nlng: 127.043284\\natclFetrDesc: 월세저렴 풀옵션원룸 한양대인근 조용한주택가 보증금조절가능\\nbildNm: \\nrltrNm: 더드림부동산'),\n",
       " Document(id='85b1fbbb-3da6-45e6-a2a0-588c584ea55a', metadata={'source': './test_estate.csv', 'row': 1664}, page_content='atclNo: 2534647685\\natclNm: 도시형생활주택\\nregion: 응봉동\\nrletTpNm: 원룸\\ntradTpNm: 월세\\nflrInfo: 3/5\\nprc: 3000\\nrentPrc: 45\\nspc1: -\\nspc2: 14.08\\ndirection: 북향\\natclCfmYmd: 25.06.27.\\nlat: 37.556521\\nlng: 127.041602\\natclFetrDesc: 한양대 정문 도보 1분, 구조 좋고 깨끗, 주택가 위치\\nbildNm: \\nrltrNm: 봄날공인중개사사무소'),\n",
       " Document(id='8299164f-dc46-4e48-af95-35d28b0cb823', metadata={'source': './test_estate.csv', 'row': 2144}, page_content='atclNo: 2534175414\\natclNm: 도시형생활주택\\nregion: 성수1가제1동\\nrletTpNm: 원룸\\ntradTpNm: 월세\\nflrInfo: 2/5\\nprc: 6000\\nrentPrc: 10\\nspc1: -\\nspc2: 12.54\\ndirection: 남향\\natclCfmYmd: 25.06.25.\\nlat: 37.54084\\nlng: 127.012094\\natclFetrDesc: 옥수역5분거리 풀옵션원룸 주차장있슴 가격추천매물\\nbildNm: \\nrltrNm: 하나부동산공인중개사사무소'),\n",
       " Document(id='35dfb463-bd2d-4c51-8232-178ca59c1956', metadata={'source': './test_estate.csv', 'row': 1010}, page_content='atclNo: 2536346994\\natclNm: 일반원룸\\nregion: 응봉동\\nrletTpNm: 원룸\\ntradTpNm: 월세\\nflrInfo: 5/5\\nprc: 1000\\nrentPrc: 75\\nspc1: -\\nspc2: 19.83\\ndirection: 서향\\natclCfmYmd: 25.07.07.\\nlat: 37.561177\\nlng: 127.040241\\natclFetrDesc: 위치최고 채광굿 풀옵션 왕십리역세권 한양대학생 추천\\nbildNm: \\nrltrNm: 더드림부동산')]"
      ]
     },
     "execution_count": 5,
     "metadata": {},
     "output_type": "execute_result"
    }
   ],
   "source": [
    "# 단계 5 : 검색기 (Retriever) 생성\n",
    "\n",
    "# 문서에 포함되어 있는 정보를 검색하고 생성합니다.\n",
    "retriever = vectorstore.as_retriever()\n",
    "\n",
    "# 검색기에 쿼리를 날려 검색된 chunk 결과를 확인합니다.\n",
    "retriever.invoke(\"월세 60이하, 6평 이상, 그리고 한양대학교와의 거리를 고려해서 월세 방을 5곳 추천해줘.\" \\\n",
    "\"추천한 이유와 추천된 곳의 매물 이름, 월세, 보증금, 중개하는 부동산 이름을 같이 알려줘.\")"
   ]
  },
  {
   "cell_type": "code",
   "execution_count": 6,
   "id": "cca11085",
   "metadata": {},
   "outputs": [],
   "source": [
    "# 단계 6 : 프롬프트 생성(Create Prompt)\n",
    "\n",
    "prompt = PromptTemplate.from_template(\n",
    "    \"\"\"You are an assistant for question-answering tasks.\n",
    "    User the following peices of retrieved context to answer the question.\n",
    "    If you don't know the answer, just say that you don't know.\n",
    "    Anser in Korean.\n",
    "    retrieved context includes information of Deposit(column anme 'prc'), Monthly Rent(column name 'rentPrc'),\n",
    "    Total Floor Area(in Korean, 공급면적. column name 'spc1'), Exclusive Use Area(in Korean, 전용면적. column name 'spc2'),\n",
    "    Listing type(or Housing type. It includes 'apartment, studio aparmtent, officetel etc'. column name 'rletTpNm').\n",
    "    District(column name 'region)'.\n",
    "    And also include 'prc per spc1 and spc2 (column name 'prc/spc1' and 'prc/spc2)',\n",
    "    'rentPrc per spc1 and spc2 (column name 'rentPrc/spc1' and 'rentPrc/spc2')'.\n",
    "    All data come from Real Estat Listing Website. And I extract about Seongdong-Gu list, which is closed to Hanyang University, Korea.\n",
    "    And all data is related to region District and Listing type.\n",
    "    \n",
    "    #Question:\n",
    "    {question}\n",
    "\n",
    "    #Context:\n",
    "    {context}\n",
    "\n",
    "    #Answer:\n",
    "    \"\"\"    \n",
    ")"
   ]
  },
  {
   "cell_type": "code",
   "execution_count": 7,
   "id": "0df1f04d",
   "metadata": {},
   "outputs": [],
   "source": [
    "# 단계 7 : 언어모델(LLM) 생성\n",
    "\n",
    "llm = ChatOpenAI(model_name=\"gpt-4o\", temperature=0)"
   ]
  },
  {
   "cell_type": "code",
   "execution_count": 8,
   "id": "1cf941b1",
   "metadata": {},
   "outputs": [
    {
     "name": "stdout",
     "output_type": "stream",
     "text": [
      "1. **매물 이름: 일반원룸**\n",
      "   - **월세:** 45만 원\n",
      "   - **보증금:** 3000만 원\n",
      "   - **중개하는 부동산 이름:** 더드림부동산\n",
      "   - **추천 이유:** 한양대 인근에 위치하며, 조용한 주택가에 있어 생활하기 좋습니다. 보증금 조절이 가능하여 유연한 조건을 제공합니다.\n",
      "\n",
      "2. **매물 이름: 도시형생활주택**\n",
      "   - **월세:** 45만 원\n",
      "   - **보증금:** 3000만 원\n",
      "   - **중개하는 부동산 이름:** 봄날공인중개사사무소\n",
      "   - **추천 이유:** 한양대 정문에서 도보 1분 거리로 매우 가깝고, 구조가 좋고 깨끗한 주택가에 위치해 있습니다.\n",
      "\n",
      "위의 두 매물은 월세가 60만 원 이하이며, 한양대학교와의 거리가 가까워 추천드립니다. 나머지 매물은 월세 조건에 맞지 않거나 면적 조건에 부합하지 않아 제외하였습니다.\n"
     ]
    }
   ],
   "source": [
    "# 단계 8 : 체인(chain) 생성\n",
    "chain = (\n",
    "    {\"context\": retriever, \"question\": RunnablePassthrough()}\n",
    "    | prompt\n",
    "    | llm    \n",
    "    | StrOutputParser()\n",
    ")\n",
    "\n",
    "# 체인 실행(Run Chain)\n",
    "# 문서에 대한 질의를 입력하고, 답변을 출력합니다.\n",
    "question = \"월세 60이하, 6평 이상, 그리고 한양대학교와의 거리를 고려해서 월세 방을 5곳 추천해줘.\" \\\n",
    "\"추천한 이유와 추천된 곳의 매물 이름, 월세, 보증금, 중개하는 부동산 이름을 같이 알려줘.\"\n",
    "response = chain.invoke(question)\n",
    "print(response)"
   ]
  }
 ],
 "metadata": {
  "kernelspec": {
   "display_name": "estate_recom",
   "language": "python",
   "name": "python3"
  },
  "language_info": {
   "codemirror_mode": {
    "name": "ipython",
    "version": 3
   },
   "file_extension": ".py",
   "mimetype": "text/x-python",
   "name": "python",
   "nbconvert_exporter": "python",
   "pygments_lexer": "ipython3",
   "version": "3.11.13"
  }
 },
 "nbformat": 4,
 "nbformat_minor": 5
}
